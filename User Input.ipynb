{
 "cells": [
  {
   "cell_type": "code",
   "execution_count": 4,
   "metadata": {},
   "outputs": [
    {
     "name": "stdout",
     "output_type": "stream",
     "text": [
      "Please enter a number: 5\n",
      "5\n",
      "Please enter a name: Sorcha\n",
      "Sorcha\n",
      "type of number <class 'str'>\n",
      "type of name <class 'str'>\n"
     ]
    }
   ],
   "source": [
    "# Program to check input  \n",
    "# type in Python \n",
    "  \n",
    "num = input(\"Please enter a number: \")\n",
    "print(num) \n",
    "name1 = input(\"Please enter a name: \")\n",
    "print(name1) \n",
    "  \n",
    "# Printing type of input value \n",
    "print (\"type of number\", type(num)) \n",
    "print (\"type of name\", type(name1)) \n"
   ]
  },
  {
   "cell_type": "code",
   "execution_count": 11,
   "metadata": {},
   "outputs": [
    {
     "name": "stdout",
     "output_type": "stream",
     "text": [
      "Please enter a number: 5.09\n",
      "5.09\n",
      "Please enter a name: Sorcha\n",
      "Sorcha\n",
      "Number is a float <class 'float'>\n"
     ]
    }
   ],
   "source": [
    "# Program to check input  \n",
    "# type in Python \n",
    "  \n",
    "num = input(\"Please enter a number: \")\n",
    "print(num) \n",
    "name1 = input(\"Please enter a name: \")\n",
    "print(name1) \n",
    "  \n",
    "try:\n",
    "    num = int(num)\n",
    "    print(\"Number is an integer \", type(num))\n",
    "except ValueError:\n",
    "    try:\n",
    "        num = float(num)\n",
    "        print(\"Number is a float\", type(num))\n",
    "    except ValueError:\n",
    "        print(\"Number is a string\")"
   ]
  },
  {
   "cell_type": "code",
   "execution_count": null,
   "metadata": {},
   "outputs": [],
   "source": []
  }
 ],
 "metadata": {
  "kernelspec": {
   "display_name": "Python 3",
   "language": "python",
   "name": "python3"
  },
  "language_info": {
   "codemirror_mode": {
    "name": "ipython",
    "version": 3
   },
   "file_extension": ".py",
   "mimetype": "text/x-python",
   "name": "python",
   "nbconvert_exporter": "python",
   "pygments_lexer": "ipython3",
   "version": "3.8.3"
  }
 },
 "nbformat": 4,
 "nbformat_minor": 4
}
