{
 "cells": [
  {
   "cell_type": "markdown",
   "metadata": {},
   "source": [
    "## design a calculator program (add, subtract, multiply, div) using switch "
   ]
  },
  {
   "cell_type": "markdown",
   "metadata": {},
   "source": [
    "#### hint:\n",
    "#### 1) write four functions (add, subtract, div, multiply) that accept 2 numbers\n",
    "#### 2) accept a numbers from user\n",
    "#### 3) write switch statement to perform addition,sub,mul,or div."
   ]
  },
  {
   "cell_type": "code",
   "execution_count": null,
   "metadata": {},
   "outputs": [],
   "source": [
    "num1 = int(input(\"Please enter the first number: \"))\n",
    "num2 = int(input(\"Please enter the second number: \"))\n",
    "\n",
    "def add(num1, num2):\n",
    "    ans = num1 + num2\n",
    "    return ans\n",
    "\n",
    "def subtract(num1, num2):\n",
    "    ans = num1 - num2\n",
    "    return ans\n",
    "\n",
    "def multiply(num1, num2):\n",
    "    ans = num1 * num2\n",
    "    return ans\n",
    "\n",
    "def divide(num1, num2):\n",
    "    ans = num1 / num2\n",
    "    return ans\n",
    "\n",
    "operation = int(input(\"Enter 1 for addition,\\n 2 for subtraction,\\n 3 for multiplication,\\n 4 for division : \"))\n",
    "\n",
    "switcher = {\n",
    "    1: add(num1, num2),\n",
    "    2: subtract(num1, num2),\n",
    "    3: multiply(num1, num2),\n",
    "    4: divide(num1, num2)\n",
    "    }\n",
    "\n",
    "# -1 is the default value if there is no keys that matches the input\n",
    "print('The answer is : ', switcher.get(operation, -1))\n"
   ]
  },
  {
   "cell_type": "code",
   "execution_count": null,
   "metadata": {},
   "outputs": [],
   "source": []
  },
  {
   "cell_type": "code",
   "execution_count": null,
   "metadata": {},
   "outputs": [],
   "source": []
  },
  {
   "cell_type": "code",
   "execution_count": null,
   "metadata": {},
   "outputs": [],
   "source": []
  },
  {
   "cell_type": "code",
   "execution_count": null,
   "metadata": {},
   "outputs": [],
   "source": []
  }
 ],
 "metadata": {
  "kernelspec": {
   "display_name": "Python 3",
   "language": "python",
   "name": "python3"
  },
  "language_info": {
   "codemirror_mode": {
    "name": "ipython",
    "version": 3
   },
   "file_extension": ".py",
   "mimetype": "text/x-python",
   "name": "python",
   "nbconvert_exporter": "python",
   "pygments_lexer": "ipython3",
   "version": "3.8.3"
  }
 },
 "nbformat": 4,
 "nbformat_minor": 4
}
